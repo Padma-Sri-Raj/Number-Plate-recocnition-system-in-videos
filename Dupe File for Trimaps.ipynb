import os
import shutil
plates_folder = './plates/'

trimap_folder = './trimaps/'
total_plates = len(os.listdir(plates_folder))

file_count = 1

for i in range(1,total_plates+1,1):
    shutil.copyfile('license_plate_trimap.png', trimap_folder + f'license_plate_{file_count}.png')
    file_count += 1
  "kernelspec": {
   "display_name": "Python 3",
   "language": "python",
   "name": "python3"
  },
  "language_info": {
   "codemirror_mode": {
    "name": "ipython",
    "version": 3
   },
   "file_extension": ".py",
   "mimetype": "text/x-python",
   "name": "python",
   "nbconvert_exporter": "python",
   "pygments_lexer": "ipython3",
   "version": "3.8.8"
  }
 },
 "nbformat": 4,
 "nbformat_minor": 5
}
