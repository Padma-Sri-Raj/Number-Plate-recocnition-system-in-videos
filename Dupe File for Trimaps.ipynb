{
 "cells": [
  {
   "cell_type": "code",
   "execution_count": null,
   "id": "cd6e479f-3eac-446b-b3d4-921441a7e42b",
   "metadata": {},
   "outputs": [],
   "source": [
    "import os\n",
    "import shutil\n",
    "plates_folder = './plates/'\n",
    "\n",
    "trimap_folder = './trimaps/'\n",
    "total_plates = len(os.listdir(plates_folder))\n",
    "\n",
    "file_count = 1\n",
    "\n",
    "for i in range(1,total_plates+1,1):\n",
    "    shutil.copyfile('license_plate_trimap.png', trimap_folder + f'license_plate_{file_count}.png')\n",
    "    file_count += 1"
   ]
  }
 ],
 "metadata": {
  "kernelspec": {
   "display_name": "Python 3",
   "language": "python",
   "name": "python3"
  },
  "language_info": {
   "codemirror_mode": {
    "name": "ipython",
    "version": 3
   },
   "file_extension": ".py",
   "mimetype": "text/x-python",
   "name": "python",
   "nbconvert_exporter": "python",
   "pygments_lexer": "ipython3",
   "version": "3.8.8"
  }
 },
 "nbformat": 4,
 "nbformat_minor": 5
}
